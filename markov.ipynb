{
 "cells": [
  {
   "cell_type": "code",
   "execution_count": 35,
   "metadata": {},
   "outputs": [
    {
     "name": "stdout",
     "output_type": "stream",
     "text": [
      "The results have been saved to initial_notes.json\n"
     ]
    },
    {
     "name": "stderr",
     "output_type": "stream",
     "text": [
      "/tmp/ipykernel_77815/2670820685.py:15: SettingWithCopyWarning: \n",
      "A value is trying to be set on a copy of a slice from a DataFrame.\n",
      "Try using .loc[row_indexer,col_indexer] = value instead\n",
      "\n",
      "See the caveats in the documentation: https://pandas.pydata.org/pandas-docs/stable/user_guide/indexing.html#returning-a-view-versus-a-copy\n",
      "  df_filtered['initial_note'] = df_filtered['midi_notes'].apply(lambda x: x[1:3])\n"
     ]
    }
   ],
   "source": [
    "import pandas as pd\n",
    "\n",
    "df = pd.read_csv(\"midi_motives.csv\")\n",
    "# df['initial_note'] = df['midi_notes'].apply(lambda x: x[1:3])\n",
    "\n",
    "# # Group by direction and scale, and get the initial notes\n",
    "# result = df.groupby(['direction', 'scale'])['initial_note'].apply(list).reset_index()\n",
    "\n",
    "# print(result)\n",
    "\n",
    "# Exclude rows where scale is \"eas\"\n",
    "df_filtered = df[df['scale'] != 'eas']\n",
    "\n",
    "# Extract the initial note from midi_notes for each combination of direction and scale\n",
    "df_filtered['initial_note'] = df_filtered['midi_notes'].apply(lambda x: x[1:3])\n",
    "\n",
    "# Group by direction and scale, and get the initial notes\n",
    "result = df_filtered.groupby(['direction', 'scale'])['initial_note'].apply(list).reset_index()\n",
    "\n",
    "# Save the results to JSON\n",
    "result.to_json('initial_notes.json', orient='records')\n",
    "\n",
    "print(\"The results have been saved to initial_notes.json\")"
   ]
  },
  {
   "cell_type": "code",
   "execution_count": 41,
   "metadata": {},
   "outputs": [
    {
     "name": "stdout",
     "output_type": "stream",
     "text": [
      "Randomly sampled note: 56\n"
     ]
    }
   ],
   "source": [
    "import pandas as pd\n",
    "import json\n",
    "import random\n",
    "\n",
    "# Load the JSON file\n",
    "with open('initial_notes.json', 'r') as file:\n",
    "    data = json.load(file)\n",
    "\n",
    "# Function to get initial notes for given direction and scale\n",
    "def get_initial_notes(data, direction, scale):\n",
    "    for entry in data:\n",
    "        if entry['direction'] == direction and entry['scale'] == scale:\n",
    "            return entry['initial_note']\n",
    "    return None\n",
    "\n",
    "# Given values for direction and scale\n",
    "direction = 0\n",
    "scale = 'min'\n",
    "\n",
    "# Get the corresponding initial notes\n",
    "initial_notes = get_initial_notes(data, direction, scale)\n",
    "\n",
    "if initial_notes:\n",
    "    # Randomly sample among the initial notes\n",
    "    sampled_note = random.choice(initial_notes)\n",
    "    print(f\"Randomly sampled note: {sampled_note}\")\n",
    "else:\n",
    "    print(f\"No initial notes found for direction {direction} and scale {scale}\")\n"
   ]
  },
  {
   "cell_type": "code",
   "execution_count": 7,
   "metadata": {},
   "outputs": [],
   "source": [
    "import pandas as pd\n",
    "import json\n",
    "import random\n",
    "\n",
    "def load_data(filepath):\n",
    "    \"\"\"Load the JSON data from a file.\"\"\"\n",
    "    with open(filepath, 'r') as file:\n",
    "        data = json.load(file)\n",
    "    return data\n",
    "\n",
    "def get_initial_notes(data, direction, scale):\n",
    "    \"\"\"Get initial notes for given direction and scale from the data.\"\"\"\n",
    "    for entry in data:\n",
    "        if entry['direction'] == direction and entry['scale'] == scale:\n",
    "            return entry['initial_note']\n",
    "    return None\n",
    "\n",
    "def sample_initial_note(direction, scale):\n",
    "    \"\"\"Load data, find initial notes for given direction and scale, and randomly sample one note.\"\"\"\n",
    "    data = load_data('initial_notes.json')\n",
    "    initial_notes = get_initial_notes(data, direction, scale)\n",
    "\n",
    "    if initial_notes:\n",
    "        sampled_note = random.choice(initial_notes)\n",
    "        print(f\"Randomly sampled note: {sampled_note}\")\n",
    "        return int(sampled_note)\n",
    "    else:\n",
    "        print(f\"No initial notes found for direction {direction} and scale {scale}\")\n",
    "        return None"
   ]
  },
  {
   "cell_type": "code",
   "execution_count": 39,
   "metadata": {},
   "outputs": [
    {
     "name": "stdout",
     "output_type": "stream",
     "text": [
      "Randomly sampled note: 45\n",
      "default note 45\n"
     ]
    },
    {
     "data": {
      "text/plain": [
       "[45, 53, 48, 57, 53, 60, 65, 67]"
      ]
     },
     "execution_count": 39,
     "metadata": {},
     "output_type": "execute_result"
    }
   ],
   "source": [
    "from markov_chain import MarkovManager\n",
    "mm = MarkovManager()\n",
    "\n",
    "foo = mm.get_model(scale=\"maj\", trend=\"0\")\n",
    "\n",
    "sampled_note = sample_initial_note(direction=0, scale=\"maj\")\n",
    "\n",
    "start = [-1, sampled_note]\n",
    "seq = foo.generate_sequence(start_notes=start, length=9)\n",
    "\n",
    "seq[1:]"
   ]
  },
  {
   "cell_type": "code",
   "execution_count": 1,
   "metadata": {},
   "outputs": [],
   "source": [
    "import pandas as pd\n",
    "import numpy as np\n",
    "from markov_chain import SecondOrderMarkovModel\n",
    "import random\n",
    "import ast\n",
    "\n",
    "scales = [\"maj\", \"min\"]\n",
    "trends = [0,1,2,3]\n",
    "combinations = [(scale, trend) for scale in scales for trend in trends]\n",
    "\n",
    "df = pd.read_csv(\"midi_motives.csv\")\n",
    "\n",
    "# Iterate through each combination\n",
    "for scale, trend in combinations:\n",
    "        \n",
    "    # Filter the DataFrame for the current combination\n",
    "    df_filtered = df[(df[\"direction\"] == trend) & (df[\"scale\"] == scale)]\n",
    "\n",
    "    model = SecondOrderMarkovModel()\n",
    "    model.train(df_filtered[\"midi_notes\"])\n",
    "    model.save_model(f\"models/markov-{scale}-{trend}.pkl\")\n"
   ]
  },
  {
   "cell_type": "code",
   "execution_count": 4,
   "metadata": {},
   "outputs": [
    {
     "name": "stdout",
     "output_type": "stream",
     "text": [
      "Warning, no transition avaliuable\n",
      "[-1, 52, 53, 55, 60, 65, 72]\n"
     ]
    }
   ],
   "source": [
    "from markov_chain import SecondOrderMarkovModel\n",
    "\n",
    "# Example usage\n",
    "\n",
    "start_notes = [-1, 52]\n",
    "\n",
    "new_model = SecondOrderMarkovModel()\n",
    "\n",
    "trend = 0\n",
    "scale = \"maj\"\n",
    "\n",
    "new_model.load_model(f'models/markov-{scale}-{trend}.pkl')\n",
    "new_generated_sequence = new_model.generate_sequence(start_notes, 10)\n",
    "print(new_generated_sequence)\n"
   ]
  }
 ],
 "metadata": {
  "kernelspec": {
   "display_name": ".musicai",
   "language": "python",
   "name": "python3"
  },
  "language_info": {
   "codemirror_mode": {
    "name": "ipython",
    "version": 3
   },
   "file_extension": ".py",
   "mimetype": "text/x-python",
   "name": "python",
   "nbconvert_exporter": "python",
   "pygments_lexer": "ipython3",
   "version": "3.11.2"
  }
 },
 "nbformat": 4,
 "nbformat_minor": 2
}
