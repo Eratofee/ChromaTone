{
 "cells": [
  {
   "cell_type": "code",
   "execution_count": 1,
   "metadata": {},
   "outputs": [],
   "source": [
    "import pandas as pd\n",
    "import numpy as np\n",
    "from markov_chain import SecondOrderMarkovModel\n",
    "import random\n",
    "import ast\n",
    "\n",
    "scales = [\"maj\", \"min\"]\n",
    "trends = [0,1,2,3]\n",
    "combinations = [(scale, trend) for scale in scales for trend in trends]\n",
    "\n",
    "df = pd.read_csv(\"midi_motives.csv\")\n",
    "\n",
    "# Iterate through each combination\n",
    "for scale, trend in combinations:\n",
    "        \n",
    "    # Filter the DataFrame for the current combination\n",
    "    df_filtered = df[(df[\"direction\"] == trend) & (df[\"scale\"] == scale)]\n",
    "\n",
    "    model = SecondOrderMarkovModel()\n",
    "    model.train(df_filtered[\"midi_notes\"])\n",
    "    model.save_model(f\"models/markov-{scale}-{trend}.pkl\")\n"
   ]
  },
  {
   "cell_type": "code",
   "execution_count": 4,
   "metadata": {},
   "outputs": [
    {
     "name": "stdout",
     "output_type": "stream",
     "text": [
      "Warning, no transition avaliuable\n",
      "[-1, 52, 53, 55, 60, 65, 72]\n"
     ]
    }
   ],
   "source": [
    "from markov_chain import SecondOrderMarkovModel\n",
    "\n",
    "# Example usage\n",
    "\n",
    "start_notes = [-1, 52]\n",
    "\n",
    "new_model = SecondOrderMarkovModel()\n",
    "\n",
    "trend = 0\n",
    "scale = \"maj\"\n",
    "\n",
    "new_model.load_model(f'models/markov-{scale}-{trend}.pkl')\n",
    "new_generated_sequence = new_model.generate_sequence(start_notes, 10)\n",
    "print(new_generated_sequence)\n"
   ]
  }
 ],
 "metadata": {
  "kernelspec": {
   "display_name": ".musicai",
   "language": "python",
   "name": "python3"
  },
  "language_info": {
   "codemirror_mode": {
    "name": "ipython",
    "version": 3
   },
   "file_extension": ".py",
   "mimetype": "text/x-python",
   "name": "python",
   "nbconvert_exporter": "python",
   "pygments_lexer": "ipython3",
   "version": "3.11.2"
  }
 },
 "nbformat": 4,
 "nbformat_minor": 2
}
