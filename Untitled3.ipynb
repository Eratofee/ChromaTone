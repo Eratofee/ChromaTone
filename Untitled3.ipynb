{
  "nbformat": 4,
  "nbformat_minor": 0,
  "metadata": {
    "colab": {
      "provenance": [],
      "authorship_tag": "ABX9TyN/X2Wldhf3Z1xsWrR3ilW3",
      "include_colab_link": true
    },
    "kernelspec": {
      "name": "python3",
      "display_name": "Python 3"
    },
    "language_info": {
      "name": "python"
    }
  },
  "cells": [
    {
      "cell_type": "markdown",
      "metadata": {
        "id": "view-in-github",
        "colab_type": "text"
      },
      "source": [
        "<a href=\"https://colab.research.google.com/github/Eratofee/ChromaTone/blob/main/Untitled3.ipynb\" target=\"_parent\"><img src=\"https://colab.research.google.com/assets/colab-badge.svg\" alt=\"Open In Colab\"/></a>"
      ]
    },
    {
      "cell_type": "code",
      "execution_count": 1,
      "metadata": {
        "colab": {
          "base_uri": "https://localhost:8080/"
        },
        "id": "UchXtPQ93sXg",
        "outputId": "cb40075d-0ca4-4a31-d7a5-1cf17dd8a9ad"
      },
      "outputs": [
        {
          "output_type": "stream",
          "name": "stdout",
          "text": [
            "Requirement already satisfied: opencv-python in /usr/local/lib/python3.10/dist-packages (4.8.0.76)\n",
            "Requirement already satisfied: numpy>=1.21.2 in /usr/local/lib/python3.10/dist-packages (from opencv-python) (1.25.2)\n"
          ]
        }
      ],
      "source": [
        "pip install opencv-python"
      ]
    },
    {
      "cell_type": "code",
      "source": [
        "import cv2\n",
        "import numpy as np\n",
        "import matplotlib.pyplot as plt"
      ],
      "metadata": {
        "id": "mfLB-ka93tMn"
      },
      "execution_count": 2,
      "outputs": []
    },
    {
      "cell_type": "code",
      "source": [
        "pitchProb = [0.8, 0, 0, 0, 0, 0, 0, 0, 0, 0, 0.2]\n",
        "\n",
        "pitches = [\"c\", \"d_b\", \"d\", \"e\", \"f\", \"g_b\",\"g\", \"a_b\", \"a\", \"b_b\", \"b\"]\n",
        "image_path = \"test_picture.png\""
      ],
      "metadata": {
        "id": "2RBD1x_W32vL"
      },
      "execution_count": 12,
      "outputs": []
    },
    {
      "cell_type": "code",
      "source": [
        "colorToneMapping = {\"c\": \"white\",\n",
        "                    \"d_b\": \"beige\",\n",
        "                    \"d\": \"light_blue\",\n",
        "                    \"e\": \"yellow\",\n",
        "                    \"f\": \"green\",\n",
        "                    \"g_b\": \"light_green\",\n",
        "                    \"g\": \"blue\",\n",
        "                    \"a_b\": \"dark_red\",\n",
        "                    \"a\": \"red\",\n",
        "                    \"b_b\": \"dark_brown\",\n",
        "                    \"b\": \"purple\"\n",
        "                   }"
      ],
      "metadata": {
        "id": "UNjlEzw336Vw"
      },
      "execution_count": 4,
      "outputs": []
    },
    {
      "cell_type": "code",
      "source": [
        "def calculate_color_spectrum(image_path):\n",
        "    # Read the image\n",
        "    image = cv2.imread(image_path)\n",
        "    if image is None:\n",
        "        raise ValueError(\"Could not open or find the image\")\n",
        "\n",
        "    # Convert the image to RGB (OpenCV loads images in BGR format by default)\n",
        "    image = cv2.cvtColor(image, cv2.COLOR_BGR2RGB)\n",
        "\n",
        "    # Calculate the histogram for each color channel\n",
        "    color = ('r', 'g', 'b')\n",
        "    for i, col in enumerate(color):\n",
        "        hist = cv2.calcHist([image], [i], None, [256], [0, 256])\n",
        "        plt.plot(hist, color=col)\n",
        "        plt.xlim([0, 256])\n",
        "\n",
        "    plt.title('Color Spectrum')\n",
        "    plt.xlabel('Pixel Intensity')\n",
        "    plt.ylabel('Frequency')\n",
        "    plt.show()\n",
        "\n",
        "# Example usage\n",
        "image_path = 'test_picture.png'  # Replace with the path to your .png image\n",
        "calculate_color_spectrum(image_path)\n"
      ],
      "metadata": {
        "colab": {
          "base_uri": "https://localhost:8080/",
          "height": 472
        },
        "id": "v1JEFt3F399H",
        "outputId": "890b4513-bbff-4bfd-8c70-b30c647fdc20"
      },
      "execution_count": 14,
      "outputs": [
        {
          "output_type": "display_data",
          "data": {
            "text/plain": [
              "<Figure size 640x480 with 1 Axes>"
            ],
            "image/png": "[encoded data removed]"
          },
          "metadata": {}
        }
      ]
    },
    {
      "cell_type": "code",
      "source": [
        "def createToneSet(pitchProb):\n",
        "    toneSet = []\n",
        "    for i, (prob, pitch) in enumerate(zip(pitchProb, pitches)):\n",
        "        if prob > 0:\n",
        "            toneSet.append(pitch)\n",
        "    return toneSet\n",
        "\n",
        "createToneSet(pitchProb)"
      ],
      "metadata": {
        "colab": {
          "base_uri": "https://localhost:8080/"
        },
        "id": "V48JPxpL4F9C",
        "outputId": "74bf6faf-e2fd-480c-ff8f-278a01432a11"
      },
      "execution_count": 6,
      "outputs": [
        {
          "output_type": "execute_result",
          "data": {
            "text/plain": [
              "['c', 'b']"
            ]
          },
          "metadata": {},
          "execution_count": 6
        }
      ]
    },
    {
      "cell_type": "code",
      "source": [
        "np.random.choice(a = pitches, p = pitchProb, size = 6)"
      ],
      "metadata": {
        "colab": {
          "base_uri": "https://localhost:8080/"
        },
        "id": "dzLbIVPU4Ub1",
        "outputId": "6d232be2-3348-4d39-99e0-8d997128d449"
      },
      "execution_count": 11,
      "outputs": [
        {
          "output_type": "execute_result",
          "data": {
            "text/plain": [
              "array(['c', 'b', 'c', 'c', 'c', 'b'], dtype='<U3')"
            ]
          },
          "metadata": {},
          "execution_count": 11
        }
      ]
    },
    {
      "cell_type": "code",
      "source": [],
      "metadata": {
        "id": "mGub6fk85VEM"
      },
      "execution_count": null,
      "outputs": []
    }
  ]
}