{
  "nbformat": 4,
  "nbformat_minor": 0,
  "metadata": {
    "colab": {
      "provenance": [],
      "authorship_tag": "ABX9TyNhM8Ga+8JeyqJojcgtqMdY",
      "include_colab_link": true
    },
    "kernelspec": {
      "name": "python3",
      "display_name": "Python 3"
    },
    "language_info": {
      "name": "python"
    }
  },
  "cells": [
    {
      "cell_type": "markdown",
      "metadata": {
        "id": "view-in-github",
        "colab_type": "text"
      },
      "source": [
        "<a href=\"https://colab.research.google.com/github/Eratofee/ChromaTone/blob/main/Untitled3.ipynb\" target=\"_parent\"><img src=\"https://colab.research.google.com/assets/colab-badge.svg\" alt=\"Open In Colab\"/></a>"
      ]
    },
    {
      "cell_type": "code",
      "execution_count": 61,
      "metadata": {
        "colab": {
          "base_uri": "https://localhost:8080/"
        },
        "id": "UchXtPQ93sXg",
        "outputId": "499567fa-0c3e-4af3-e26f-172f24ae38e0"
      },
      "outputs": [
        {
          "output_type": "stream",
          "name": "stdout",
          "text": [
            "Requirement already satisfied: opencv-python in /usr/local/lib/python3.10/dist-packages (4.8.0.76)\n",
            "Requirement already satisfied: numpy>=1.21.2 in /usr/local/lib/python3.10/dist-packages (from opencv-python) (1.25.2)\n"
          ]
        }
      ],
      "source": [
        "# dependencies\n",
        "pip install opencv-python"
      ]
    },
    {
      "cell_type": "code",
      "source": [
        "import cv2\n",
        "import numpy as np\n",
        "import matplotlib.pyplot as plt"
      ],
      "metadata": {
        "id": "mfLB-ka93tMn"
      },
      "execution_count": null,
      "outputs": []
    },
    {
      "cell_type": "code",
      "source": [
        "# Pitch_Probabilities should look like this\n",
        "# pitchProb = [0.8, 0, 0, 0, 0, 0, 0, 0, 0, 0, 0, 0.2]\n",
        "\n",
        "# image_path = \"test_picture.png\"\n",
        "\n",
        "PITCH_CLASSES = [\"c\", \"d_b\", \"d\", \"e_b\", \"e\", \"f\", \"g_b\",\"g\", \"a_b\", \"a\", \"b_b\", \"b\"]\n",
        "oktave = 4\n",
        "MIDI_MULTIPLIER = oktave*15\n",
        "\n",
        "midis = [i for i in range(MIDI_MULTIPLIER, MIDI_MULTIPLIER+len(PITCH_CLASSES))]\n",
        "translation_pit_2_midi = dict(zip(PITCH_CLASSES, midis))"
      ],
      "metadata": {
        "id": "2RBD1x_W32vL"
      },
      "execution_count": 78,
      "outputs": []
    },
    {
      "cell_type": "code",
      "source": [
        "def createToneSet(pitchProb, length = 6):\n",
        "    toneSet = np.random.choice(a = PITCH_CLASSES, p = pitchProb, size = length)\n",
        "    return toneSet"
      ],
      "metadata": {
        "id": "UNjlEzw336Vw"
      },
      "execution_count": 69,
      "outputs": []
    },
    {
      "cell_type": "code",
      "source": [
        "def translate_Tone_to_Midi(tones, oktave = 4):\n",
        "  midi_numbers = [translation_pit_2_midi[tone] for tone in tones]\n",
        "  return midi_numbers"
      ],
      "metadata": {
        "id": "v1JEFt3F399H"
      },
      "execution_count": 79,
      "outputs": []
    },
    {
      "cell_type": "code",
      "source": [
        "tones = createToneSet(pitchProb)\n",
        "print(tones)"
      ],
      "metadata": {
        "colab": {
          "base_uri": "https://localhost:8080/"
        },
        "id": "V48JPxpL4F9C",
        "outputId": "5571d72d-a294-4ee7-9d95-ef24dd971996"
      },
      "execution_count": 81,
      "outputs": [
        {
          "output_type": "stream",
          "name": "stdout",
          "text": [
            "['c' 'c' 'c' 'c' 'c' 'c']\n"
          ]
        }
      ]
    },
    {
      "cell_type": "code",
      "source": [
        "print(translate_Tone_to_Midi(tones))"
      ],
      "metadata": {
        "colab": {
          "base_uri": "https://localhost:8080/"
        },
        "id": "0Uh54avjBgGm",
        "outputId": "a3ad4311-42f9-493e-d70e-a55565f0a60b"
      },
      "execution_count": 83,
      "outputs": [
        {
          "output_type": "stream",
          "name": "stdout",
          "text": [
            "[60, 60, 60, 60, 60, 60]\n"
          ]
        }
      ]
    },
    {
      "cell_type": "code",
      "source": [],
      "metadata": {
        "id": "dzLbIVPU4Ub1"
      },
      "execution_count": 71,
      "outputs": []
    },
    {
      "cell_type": "code",
      "source": [],
      "metadata": {
        "id": "mGub6fk85VEM",
        "colab": {
          "base_uri": "https://localhost:8080/"
        },
        "outputId": "4035c1a6-adcb-493b-c123-2251512c4a96"
      },
      "execution_count": 65,
      "outputs": [
        {
          "output_type": "stream",
          "name": "stdout",
          "text": [
            "[60, 60, 71, 60, 60, 60]\n"
          ]
        }
      ]
    },
    {
      "cell_type": "code",
      "source": [],
      "metadata": {
        "id": "TSZbUIv0MeBx"
      },
      "execution_count": 65,
      "outputs": []
    },
    {
      "cell_type": "code",
      "source": [],
      "metadata": {
        "id": "orDrfuwcNYde"
      },
      "execution_count": null,
      "outputs": []
    }
  ]
}